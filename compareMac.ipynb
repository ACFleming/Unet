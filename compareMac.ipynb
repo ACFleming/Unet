{
 "cells": [
  {
   "cell_type": "markdown",
   "metadata": {},
   "source": []
  },
  {
   "attachments": {},
   "cell_type": "markdown",
   "metadata": {},
   "source": [
    "**Parameters offered by UNET trace**\n",
    "1. Drop count - the number of packets dropped since warmup\n",
    "2. Enqueue count - the number of packets queued since warmup (In vast majority of cases, this corresponds to Tx count)\n",
    "3. Load - the normalized actual network load\n",
    "4. Mean delay - the mean delay between queuing and reception\n",
    "5. Offered load - the normalized offered network load (In vast majority of cases, this corresponds to Load)\n",
    "6. Rx count - the number of packets received since warmup\n",
    "7. Throughput - the normalized network throughput. Calculated as time nodes are busy received successful frames/time experienced by all nodes\n",
    "   (As such, adding nodes who do not receive data decreases overall throughput, as these nodes expereience large durations receiving nothing)\n",
    "8. Tx count - the number of packets sent since warmup\n",
    "\n",
    "**Parameters calculated from statistics**\n",
    "1. Loss - drop count/ tx count\n",
    "2. Retransmitted packets - If a transmission method uses reliabile delivery, the dropped packets are the retransmitted packets\n",
    "\n"
   ]
  },
  {
   "cell_type": "code",
   "execution_count": 13,
   "metadata": {},
   "outputs": [],
   "source": [
    "import pandas as pd \n",
    "import matplotlib.pyplot as plt\n",
    "import numpy as np\n",
    "from enum import Enum, auto\n"
   ]
  },
  {
   "cell_type": "code",
   "execution_count": 37,
   "metadata": {},
   "outputs": [
    {
     "name": "stdout",
     "output_type": "stream",
     "text": [
      "[<Mac.ALOHA: 0>, <Mac.CSMA: 1>, <Mac.SFAMA: 2>]\n",
      "[<Scenario.BaseGridScenario: 0>, <Scenario.OffsetGridScenario: 1>, <Scenario.HighQuantityScenario: 2>, <Scenario.LowQuantityScenario: 3>, <Scenario.ClusterScenario: 4>]\n"
     ]
    }
   ],
   "source": [
    "class Mac(Enum):\n",
    "    ALOHA = 0\n",
    "    CSMA = auto()\n",
    "    SFAMA = auto()\n",
    "    \n",
    "    \n",
    "class Scenario(Enum):\n",
    "    BaseGridScenario = 0\n",
    "    OffsetGridScenario = auto()\n",
    "    HighQuantityScenario = auto()\n",
    "    LowQuantityScenario = auto()\n",
    "    ClusterScenario = auto()\n",
    "    \n",
    "    \n",
    "class Column(Enum):\n",
    "    Load = 0\n",
    "    DropCount = auto()\n",
    "    EnqueCount = auto()\n",
    "    SimLoad = auto()\n",
    "    MeanDelay = auto()\n",
    "    OfferedLoad = auto()\n",
    "    RxCount = auto()\n",
    "    Throughput = auto()\n",
    "    TxCount = auto()\n",
    "    Loss = auto()\n",
    "\n",
    "print(list(Mac))\n",
    "print(list(Scenario))\n",
    "\n",
    "col_names = [c.name for c in Column]\n"
   ]
  },
  {
   "cell_type": "code",
   "execution_count": 40,
   "metadata": {},
   "outputs": [
    {
     "name": "stdout",
     "output_type": "stream",
     "text": [
      "5\n",
      "5\n",
      "4\n",
      "4\n",
      "5\n",
      "5\n",
      "5\n",
      "0\n",
      "5\n",
      "5\n",
      "5\n",
      "5\n",
      "5\n",
      "5\n",
      "5\n",
      "3\n",
      "[   Load  DropCount  EnqueCount  SimLoad  MeanDelay  OfferedLoad  RxCount  \\\n",
      "0   0.2      623.0      1365.0    0.159      0.548        0.159    742.0   \n",
      "1   0.4     1568.0      2298.0    0.267      0.546        0.267    728.0   \n",
      "2   0.6     2454.0      3161.0    0.367      0.541        0.369    706.0   \n",
      "3   0.8     3032.0      3637.0    0.422      0.543        0.424    604.0   \n",
      "4   1.0     3616.0      4159.0    0.484      0.529        0.485    543.0   \n",
      "\n",
      "   Throughput  TxCount   Loss  \n",
      "0       0.087   1364.0  0.457  \n",
      "1       0.085   2296.0  0.683  \n",
      "2       0.082   3147.0  0.780  \n",
      "3       0.071   3615.0  0.839  \n",
      "4       0.063   4146.0  0.872  ]\n"
     ]
    }
   ],
   "source": [
    "results = []\n",
    "for m in Mac:\n",
    "    for s in Scenario:\n",
    "        name = m.name + \"_\" + s.name\n",
    "        l = []\n",
    "        \n",
    "        try:\n",
    "            r = pd.read_csv('results/' + name + '.csv',names=col_names, header=0)\n",
    "            # print(len(r))\n",
    "            l.append(r)\n",
    "        except:\n",
    "            print(f\"File {name} does not exist\")\n",
    "        \n",
    "    results.append(l)\n",
    "\n",
    "\n",
    "print(len(results))\n",
    "print(results[0])\n"
   ]
  },
  {
   "cell_type": "code",
   "execution_count": 22,
   "metadata": {},
   "outputs": [
    {
     "name": "stdout",
     "output_type": "stream",
     "text": [
      "   Load  DropCount  EnqueCount  SimLoad  MeanDelay  OfferedLoad  RxCount  \\\n",
      "0   0.2      623.0      1365.0    0.159      0.548        0.159    742.0   \n",
      "1   0.4     1568.0      2298.0    0.267      0.546        0.267    728.0   \n",
      "2   0.6     2454.0      3161.0    0.367      0.541        0.369    706.0   \n",
      "3   0.8     3032.0      3637.0    0.422      0.543        0.424    604.0   \n",
      "4   1.0     3616.0      4159.0    0.484      0.529        0.485    543.0   \n",
      "\n",
      "   Throughput  TxCount   Loss  \n",
      "0       0.087   1364.0  0.457  \n",
      "1       0.085   2296.0  0.683  \n",
      "2       0.082   3147.0  0.780  \n",
      "3       0.071   3615.0  0.839  \n",
      "4       0.063   4146.0  0.872  \n"
     ]
    }
   ],
   "source": [
    "print(results[Mac.ALOHA.value][Scenario.BaseGridScenario.value])"
   ]
  },
  {
   "cell_type": "code",
   "execution_count": 27,
   "metadata": {},
   "outputs": [
    {
     "data": {
      "text/plain": [
       "<matplotlib.legend.Legend at 0x7f88362e1be0>"
      ]
     },
     "execution_count": 27,
     "metadata": {},
     "output_type": "execute_result"
    },
    {
     "data": {
      "image/png": "[encoded data removed]",
      "text/plain": [
       "<Figure size 640x480 with 1 Axes>"
      ]
     },
     "metadata": {},
     "output_type": "display_data"
    }
   ],
   "source": [
    "basegrid_ax = results[Mac.ALOHA.value][Scenario.BaseGridScenario.value].plot(x=Column.Load.name, y=Column.Throughput.name)\n",
    "results[Mac.CSMA.value][Scenario.BaseGridScenario.value].plot(ax=basegrid_ax,x=Column.Load.name, y=Column.Throughput.name)\n",
    "results[Mac.SFAMA.value][Scenario.BaseGridScenario.value].plot(ax=basegrid_ax,x=Column.Load.name, y=Column.Throughput.name)\n",
    "basegrid_ax.legend([Mac.ALOHA.name, Mac.CSMA.name, Mac.SFAMA.name])\n"
   ]
  },
  {
   "cell_type": "code",
   "execution_count": 33,
   "metadata": {},
   "outputs": [
    {
     "name": "stdout",
     "output_type": "stream",
     "text": [
      "3\n",
      "1\n"
     ]
    }
   ],
   "source": []
  },
  {
   "cell_type": "code",
   "execution_count": 28,
   "metadata": {},
   "outputs": [
    {
     "ename": "IndexError",
     "evalue": "list index out of range",
     "output_type": "error",
     "traceback": [
      "\u001b[0;31m---------------------------------------------------------------------------\u001b[0m",
      "\u001b[0;31mIndexError\u001b[0m                                Traceback (most recent call last)",
      "Cell \u001b[0;32mIn[28], line 1\u001b[0m\n\u001b[0;32m----> 1\u001b[0m offset_ax \u001b[39m=\u001b[39m results[Mac\u001b[39m.\u001b[39;49mALOHA\u001b[39m.\u001b[39;49mvalue][Scenario\u001b[39m.\u001b[39;49mOffsetGridScenario\u001b[39m.\u001b[39;49mvalue]\u001b[39m.\u001b[39mplot(x\u001b[39m=\u001b[39mColumn\u001b[39m.\u001b[39mLoad\u001b[39m.\u001b[39mname, y\u001b[39m=\u001b[39mColumn\u001b[39m.\u001b[39mThroughput\u001b[39m.\u001b[39mname)\n\u001b[1;32m      2\u001b[0m results[Mac\u001b[39m.\u001b[39mCSMA\u001b[39m.\u001b[39mvalue][Scenario\u001b[39m.\u001b[39mOffsetGridScenario\u001b[39m.\u001b[39mvalue]\u001b[39m.\u001b[39mplot(ax\u001b[39m=\u001b[39moffset_ax,x\u001b[39m=\u001b[39mColumn\u001b[39m.\u001b[39mLoad\u001b[39m.\u001b[39mname, y\u001b[39m=\u001b[39mColumn\u001b[39m.\u001b[39mThroughput\u001b[39m.\u001b[39mname)\n\u001b[1;32m      3\u001b[0m results[Mac\u001b[39m.\u001b[39mSFAMA\u001b[39m.\u001b[39mvalue][Scenario\u001b[39m.\u001b[39mOffsetGridScenario\u001b[39m.\u001b[39mvalue]\u001b[39m.\u001b[39mplot(ax\u001b[39m=\u001b[39moffset_ax,x\u001b[39m=\u001b[39mColumn\u001b[39m.\u001b[39mLoad\u001b[39m.\u001b[39mname, y\u001b[39m=\u001b[39mColumn\u001b[39m.\u001b[39mThroughput\u001b[39m.\u001b[39mname)\n",
      "\u001b[0;31mIndexError\u001b[0m: list index out of range"
     ]
    }
   ],
   "source": [
    "offset_ax = results[Mac.ALOHA.value][Scenario.OffsetGridScenario.value].plot(x=Column.Load.name, y=Column.Throughput.name)\n",
    "results[Mac.CSMA.value][Scenario.OffsetGridScenario.value].plot(ax=offset_ax,x=Column.Load.name, y=Column.Throughput.name)\n",
    "results[Mac.SFAMA.value][Scenario.OffsetGridScenario.value].plot(ax=offset_ax,x=Column.Load.name, y=Column.Throughput.name)\n",
    "offset_ax.legend([Mac.ALOHA.name, Mac.CSMA.name, Mac.SFAMA.name])"
   ]
  },
  {
   "cell_type": "code",
   "execution_count": null,
   "metadata": {},
   "outputs": [],
   "source": []
  }
 ],
 "metadata": {
  "kernelspec": {
   "display_name": "Python 3",
   "language": "python",
   "name": "python3"
  },
  "language_info": {
   "codemirror_mode": {
    "name": "ipython",
    "version": 3
   },
   "file_extension": ".py",
   "mimetype": "text/x-python",
   "name": "python",
   "nbconvert_exporter": "python",
   "pygments_lexer": "ipython3",
   "version": "3.8.10"
  },
  "orig_nbformat": 4
 },
 "nbformat": 4,
 "nbformat_minor": 2
}
